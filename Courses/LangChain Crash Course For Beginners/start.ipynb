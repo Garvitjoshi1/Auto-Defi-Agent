{
 "cells": [
  {
   "cell_type": "code",
   "execution_count": null,
   "id": "5d05a7be",
   "metadata": {},
   "outputs": [],
   "source": [
    "import os \n",
    "\n",
    "os.environ['OPENAI_API_KEY'] = \"API_KEY\"\n",
    "\n"
   ]
  }
 ],
 "metadata": {
  "language_info": {
   "name": "python"
  }
 },
 "nbformat": 4,
 "nbformat_minor": 5
}
